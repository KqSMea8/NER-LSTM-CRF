{
 "cells": [
  {
   "cell_type": "code",
   "execution_count": 1,
   "metadata": {
    "collapsed": true
   },
   "outputs": [],
   "source": [
    "# -*- coding: utf8 -*-"
   ]
  },
  {
   "cell_type": "code",
   "execution_count": 2,
   "metadata": {
    "collapsed": true
   },
   "outputs": [],
   "source": [
    "import pandas as pd\n",
    "import numpy as np"
   ]
  },
  {
   "cell_type": "markdown",
   "metadata": {},
   "source": [
    "## 对于新的标注语料，修改词典地址，实体类型即可------begin"
   ]
  },
  {
   "cell_type": "markdown",
   "metadata": {},
   "source": [
    "### 加载词典 "
   ]
  },
  {
   "cell_type": "code",
   "execution_count": 14,
   "metadata": {
    "collapsed": false
   },
   "outputs": [],
   "source": [
    "def loadDictMerge(dicName):\n",
    "    nerDict = dict()\n",
    "    tags = dict()\n",
    "    with open(dicName, \"r\") as f:\n",
    "        for line in f :\n",
    "            lineArr = line.strip().split(\" \")\n",
    "            if len(lineArr)==2:\n",
    "                nerDict[lineArr[0]] = lineArr[1]\n",
    "                tags[lineArr[1]] = lineArr[1] if lineArr[1] in tags  else 0\n",
    "    return nerDict, tags"
   ]
  },
  {
   "cell_type": "code",
   "execution_count": 26,
   "metadata": {
    "collapsed": false
   },
   "outputs": [
    {
     "name": "stdout",
     "output_type": "stream",
     "text": [
      "47948\n"
     ]
    }
   ],
   "source": [
    "dicName = \"data_path/medical.ner.dic\" \n",
    "nerDict , tags= loadDictMerge(dicName)\n",
    "idx2tag = list(set(tags.values()))\n",
    "print(len(nerDict))"
   ]
  },
  {
   "cell_type": "code",
   "execution_count": 30,
   "metadata": {
    "collapsed": false
   },
   "outputs": [
    {
     "name": "stdout",
     "output_type": "stream",
     "text": [
      "['SYMPTOM', 'DISEASE', 'BODY']\n"
     ]
    }
   ],
   "source": [
    "print(idx2tag)"
   ]
  },
  {
   "cell_type": "code",
   "execution_count": 32,
   "metadata": {
    "collapsed": false
   },
   "outputs": [
    {
     "name": "stdout",
     "output_type": "stream",
     "text": [
      "{'SYMPTOM': 0, 'DISEASE': 1, 'BODY': 2}\n"
     ]
    }
   ],
   "source": [
    "\n",
    "#tags={'DISEASE', 'SYMPTOM', 'BODY'}\n",
    "btag2idx = dict([(char,i) for i,char in enumerate(idx2tag)])\n",
    "#btag2idx = dict(zip(idx2tag, range(len(idx2tag))))\n",
    "print(btag2idx)"
   ]
  },
  {
   "cell_type": "markdown",
   "metadata": {},
   "source": [
    "## 对于新的标注语料，修改词典地址，实体类型即可------end"
   ]
  },
  {
   "cell_type": "markdown",
   "metadata": {},
   "source": [
    "### 加载待处理的文本"
   ]
  },
  {
   "cell_type": "code",
   "execution_count": 6,
   "metadata": {
    "collapsed": false
   },
   "outputs": [
    {
     "data": {
      "text/plain": [
       "'\\nimport pandas as pd\\ndef loadCSV(rawPath):\\n    df = pd.read_csv(rawPath)\\n    disList = df[\"symptomDes\"].tolist()\\n    return disList\\nrawPath = \"datasets/diseaseMatch.csv\"\\ndisList = loadCSV(rawPath)\\nprint(len(disList))\\nrawPath1 = \"datasets/symptomMatch.csv\"\\ndisList1 = loadCSV(rawPath1)\\nprint(len(disList1))\\ndstList = disList + disList1\\nprint(len(dstList))\\nwith open(\"datasets/rawNew.txt\",\"w\") as f:\\n    for item in dstList:\\n        f.write(str(item).replace(\"\\n\", \"\")+\"\\n\")\\n    f.flush()\\n    f.close()\\n'"
      ]
     },
     "execution_count": 6,
     "metadata": {},
     "output_type": "execute_result"
    }
   ],
   "source": [
    "'''\n",
    "import pandas as pd\n",
    "def loadCSV(rawPath):\n",
    "    df = pd.read_csv(rawPath)\n",
    "    disList = df[\"symptomDes\"].tolist()\n",
    "    return disList\n",
    "rawPath = \"datasets/diseaseMatch.csv\"\n",
    "disList = loadCSV(rawPath)\n",
    "print(len(disList))\n",
    "rawPath1 = \"datasets/symptomMatch.csv\"\n",
    "disList1 = loadCSV(rawPath1)\n",
    "print(len(disList1))\n",
    "dstList = disList + disList1\n",
    "print(len(dstList))\n",
    "with open(\"datasets/rawNew.txt\",\"w\") as f:\n",
    "    for item in dstList:\n",
    "        f.write(str(item).replace(\"\\n\", \"\")+\"\\n\")\n",
    "    f.flush()\n",
    "    f.close()\n",
    "'''"
   ]
  },
  {
   "cell_type": "code",
   "execution_count": 33,
   "metadata": {
    "collapsed": false
   },
   "outputs": [],
   "source": [
    "def loadRawDatasets(rawPath):\n",
    "    rawList = open(rawPath, \"r\").readlines()\n",
    "    return rawList\n"
   ]
  },
  {
   "cell_type": "markdown",
   "metadata": {},
   "source": [
    "### 每行文本遍历实体出现的位置"
   ]
  },
  {
   "cell_type": "code",
   "execution_count": 34,
   "metadata": {
    "collapsed": false
   },
   "outputs": [
    {
     "name": "stdout",
     "output_type": "stream",
     "text": [
      "['阿司匹林 0 4 DISEASE', '阿司匹林 36 40 DISEASE', '阿司匹林 181 185 DISEASE', '阿司匹林 198 202 DISEASE']\n"
     ]
    }
   ],
   "source": [
    "def row2ner(result, row, name,typeName):\n",
    "    p = row.find(name,0)\n",
    "\n",
    "    while(p!=-1):\n",
    "        result.append(name+' '+str(p)+' '+str(p+len(name))+' '+typeName)\n",
    "        p = row.find(name, p+1)\n",
    "    #print(result)\n",
    "row = '阿司匹林诱发哮喘症状常见症状恶心与呕吐腹泻呼吸困难结膜充血气喘胸闷休克 阿司匹林诱发哮喘好发于中年女性，少见于儿童，\\\n",
    "典型症状是服药30min～2h内出现结膜充血，流涕，颜面及胸部皮肤潮红，热疹，恶心，呕吐，腹泻，偶有荨麻疹，同时伴胸闷，气喘，\\\n",
    "呼吸困难，严重者可出现休克，昏迷，呼吸停止，这类患者治疗反应较差，故一旦发作，无论症状轻重，都应引起高度重视，若鼻息肉，\\\n",
    "阿司匹林过敏和哮喘合并存在，则称为阿司匹林哮喘三联症'\n",
    "result=[]\n",
    "row2ner(result, row,'阿司匹林','DISEASE')\n",
    "print(result)"
   ]
  },
  {
   "cell_type": "markdown",
   "metadata": {},
   "source": [
    "### 遍历每个词典下的词，检索完全匹配的词的位置"
   ]
  },
  {
   "cell_type": "code",
   "execution_count": 35,
   "metadata": {
    "collapsed": true
   },
   "outputs": [],
   "source": [
    "def rawAddType(result, des, typeDict):\n",
    "    for dis in typeDict:\n",
    "        typeName = typeDict[dis]\n",
    "        row2ner(result, des, dis, typeName)"
   ]
  },
  {
   "cell_type": "markdown",
   "metadata": {},
   "source": [
    "### 对'呼吸困难 36 40 DISEASE‘该结构按照起始位置和词长从小到大排序"
   ]
  },
  {
   "cell_type": "code",
   "execution_count": 36,
   "metadata": {
    "collapsed": true
   },
   "outputs": [],
   "source": [
    "def rawAddTypeSort(result, resultSeg):\n",
    "\n",
    "    for i in range(len(result)):\n",
    "        resArr = result[i].split(' ')\n",
    "        resultSeg[i][0] = resArr[0] #词\n",
    "        resultSeg[i][1] = int(resArr[1])#起始位置\n",
    "        resultSeg[i][2] = int(resArr[2])#结束位置\n",
    "        resultSeg[i][3] = resArr[3]#实体类型\n",
    "        resultSeg[i][4] = len(resArr[0])#词长    \n",
    "    #按照起始位置和实体长度排序, sort之后，相同起始位置的实体词，长的在后面\n",
    "    resultSeg.sort(key=lambda x:(x[1], x[4]) )"
   ]
  },
  {
   "cell_type": "markdown",
   "metadata": {},
   "source": [
    "### 取最长实体，最短路径的序列"
   ]
  },
  {
   "cell_type": "code",
   "execution_count": 37,
   "metadata": {
    "collapsed": false
   },
   "outputs": [],
   "source": [
    "def doGetLastOrder(resultSeg,resultDst ):\n",
    "    maxIndexNum = 0\n",
    "    maxIndexAll = 0\n",
    "    maxIndex = 0\n",
    "    i =0\n",
    "    #迭代检索实体词，如果后面的实体词和当前实体词起始索引一致，则找最长的实体，作为当前索引的实体，下一个词的起始索引要大于最长实体的结束索引\n",
    "    while i <(len(resultSeg)-1):\n",
    "        indexNew = resultSeg[i][1]\n",
    "        #当前实体索引小于上一实体的结束索引，直接略过，判断下一实体\n",
    "        if indexNew<maxIndexAll:\n",
    "            i = i+1\n",
    "            continue\n",
    "        maxIndex = i\n",
    "        #训练遍历后面的实体，找到同索引的最长实体，记录实体结束索引和下一个实体的序号\n",
    "        for j in range(i+1, len(resultSeg)):\n",
    "            #print(\"j=\",j,result5[j])\n",
    "            if resultSeg[j][1] == indexNew:\n",
    "                maxIndex = j\n",
    "                i = maxIndex+1\n",
    "            else:\n",
    "                maxIndexAll = resultSeg[maxIndex][2]\n",
    "                i = maxIndex +1\n",
    "                #print(\"up i=\", i, maxIndex,maxIndexNum)\n",
    "                break\n",
    "        #print(\"maxindex=\",maxIndex, result5[maxIndex])\n",
    "        resultDst[maxIndexNum] = resultSeg[maxIndex]\n",
    "        maxIndexNum += 1\n",
    "    #print(maxIndexNum)\n",
    "    return maxIndexNum"
   ]
  },
  {
   "cell_type": "markdown",
   "metadata": {},
   "source": [
    "### 原始数据添加实体label标签"
   ]
  },
  {
   "cell_type": "code",
   "execution_count": 38,
   "metadata": {
    "collapsed": true
   },
   "outputs": [],
   "source": [
    "def ner2BIOlable(bio, des,inResult, btype ,itype):\n",
    "    for i in range(len(inResult)):\n",
    "        inStr = inResult[i]\n",
    "        #inArr = inStr.split(\" \")\n",
    "        s = int(inStr[1])\n",
    "        e = int(inStr[2])\n",
    "        bio[s] = btype+\"-\"+inStr[3]\n",
    "        for j in range(s+1, e):\n",
    "            bio[j] = itype+'-'+inStr[3]"
   ]
  },
  {
   "cell_type": "code",
   "execution_count": null,
   "metadata": {
    "collapsed": true
   },
   "outputs": [],
   "source": [
    "def raw2LabelOne(des,  nerDict):\n",
    "    #1.输入文本规范化\n",
    "    des = des.replace(' ','').replace('\\t','').replace('\\n','').replace('　','').strip()\n",
    "    #2.初始化bio标签\n",
    "    bio = ['O' for i in range(len(des))]\n",
    "    result=[]\n",
    "    #3.计算匹配实体的起始、结束位置，产出['呼吸困难', 36, 40, 'SYMPTOM', 4]\n",
    "    #print(\"===in===\", des)\n",
    "    rawAddType(result, des, nerDict)\n",
    "        #print(result)\n",
    "    #4.按照实体的起始位置和实体长度排序   \n",
    "    resultSeg = [ [ 0 for i in range(5) ] for j in range(len(result)) ]\n",
    "    rawAddTypeSort(result, resultSeg)\n",
    "    #print(resultSeg)\n",
    "\n",
    "    #5.选择实体词最长的进行最大匹配\n",
    "    resultDst = [ [ 0 for i in range(5) ] for j in range(len(resultSeg)) ]\n",
    "    maxIndexNum = doGetLastOrder(resultSeg,resultDst )\n",
    "    resultDst = resultDst[0:maxIndexNum]\n",
    "    #print(resultDst)\n",
    "    #6.转换成BIO格式,先初始化成O，根据最终的标注实体index，标注实体B和I\n",
    "\n",
    "    ner2BIOlable(bio, des, resultDst, 'B','I')\n",
    "\n",
    "    for nerIndex in range(len(bio)):\n",
    "        print(des[nerIndex] +\" \"+ bio[nerIndex])\n",
    "des = \"气短是指呼吸比正常人短促，躁而带粗，气若有所窒，则语言不接续和呼吸勉强。\"\n",
    "raw2LabelOne(des,  nerDict)\n",
    "        "
   ]
  },
  {
   "cell_type": "code",
   "execution_count": 43,
   "metadata": {
    "collapsed": false
   },
   "outputs": [
    {
     "name": "stdout",
     "output_type": "stream",
     "text": [
      "end\n",
      "end\n",
      "end\n"
     ]
    }
   ],
   "source": [
    "def raw2Label(rawList, dstPath, nerDict):\n",
    "    f = open(dstPath, \"w\")\n",
    "    for i in range (len(rawList)):\n",
    "        des = rawList[i]\n",
    "        #1.输入文本规范化\n",
    "        des = des.replace(' ','').replace('\\t','').replace('\\n','').replace('　','').strip()\n",
    "        #2.初始化bio标签\n",
    "        bio = ['O' for i in range(len(des))]\n",
    "        result=[]\n",
    "        #3.计算匹配实体的起始、结束位置，产出['呼吸困难', 36, 40, 'SYMPTOM', 4]\n",
    "        #print(\"===in===\", des)\n",
    "        rawAddType(result, des, nerDict)\n",
    "            #print(result)\n",
    "        #4.按照实体的起始位置和实体长度排序   \n",
    "        resultSeg = [ [ 0 for i in range(5) ] for j in range(len(result)) ]\n",
    "        rawAddTypeSort(result, resultSeg)\n",
    "        #print(resultSeg)\n",
    "          \n",
    "        #5.选择实体词最长的进行最大匹配\n",
    "        resultDst = [ [ 0 for i in range(5) ] for j in range(len(resultSeg)) ]\n",
    "        maxIndexNum = doGetLastOrder(resultSeg,resultDst )\n",
    "        resultDst = resultDst[0:maxIndexNum]\n",
    "        #print(resultDst)\n",
    "        #6.转换成BIO格式,先初始化成O，根据最终的标注实体index，标注实体B和I\n",
    "        \n",
    "        ner2BIOlable(bio, des, resultDst, 'B','I')\n",
    "        \n",
    "        for nerIndex in range(len(bio)):\n",
    "            f.write(des[nerIndex] +\" \"+ bio[nerIndex]+\"\\n\")\n",
    "        f.write(\"\\n\")\n",
    "        #break\n",
    "    print(\"end\")\n",
    "        \n",
    "    \n",
    "rawPathTrain='data_path/rawTrain.txt'\n",
    "dstPathTrain = \"data_path/raw2LabelTrain.txt\"\n",
    "\n",
    "rawPathTest='data_path/rawTest.txt'\n",
    "dstPathTest = \"data_path/raw2LabelTest.txt\"\n",
    "\n",
    "rawList = loadRawDatasets(rawPathTrain)\n",
    "raw2Label(rawList, dstPathTrain, nerDict)\n",
    "\n",
    "\n",
    "rawList = loadRawDatasets(rawPathTest)\n",
    "raw2Label(rawList, dstPathTest, nerDict)\n"
   ]
  },
  {
   "cell_type": "code",
   "execution_count": null,
   "metadata": {
    "collapsed": true
   },
   "outputs": [],
   "source": []
  },
  {
   "cell_type": "code",
   "execution_count": null,
   "metadata": {
    "collapsed": true
   },
   "outputs": [],
   "source": []
  }
 ],
 "metadata": {
  "anaconda-cloud": {},
  "kernelspec": {
   "display_name": "Python [default]",
   "language": "python",
   "name": "python3"
  },
  "language_info": {
   "codemirror_mode": {
    "name": "ipython",
    "version": 3
   },
   "file_extension": ".py",
   "mimetype": "text/x-python",
   "name": "python",
   "nbconvert_exporter": "python",
   "pygments_lexer": "ipython3",
   "version": "3.5.2"
  }
 },
 "nbformat": 4,
 "nbformat_minor": 1
}
